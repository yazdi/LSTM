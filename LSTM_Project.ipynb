{
 "cells": [
  {
   "cell_type": "code",
   "execution_count": 1,
   "metadata": {},
   "outputs": [],
   "source": [
    "import numpy as np\n",
    "import pandas as pd\n",
    "from sklearn.preprocessing import MinMaxScaler\n",
    "from keras.models import Sequential\n",
    "from keras.layers import Dense, LSTM"
   ]
  },
  {
   "cell_type": "code",
   "execution_count": 2,
   "metadata": {},
   "outputs": [
    {
     "name": "stdout",
     "output_type": "stream",
     "text": [
      "[*********************100%***********************]  1 of 1 completed\n"
     ]
    },
    {
     "data": {
      "text/html": [
       "<div>\n",
       "<style scoped>\n",
       "    .dataframe tbody tr th:only-of-type {\n",
       "        vertical-align: middle;\n",
       "    }\n",
       "\n",
       "    .dataframe tbody tr th {\n",
       "        vertical-align: top;\n",
       "    }\n",
       "\n",
       "    .dataframe thead th {\n",
       "        text-align: right;\n",
       "    }\n",
       "</style>\n",
       "<table border=\"1\" class=\"dataframe\">\n",
       "  <thead>\n",
       "    <tr style=\"text-align: right;\">\n",
       "      <th></th>\n",
       "      <th>Open</th>\n",
       "      <th>High</th>\n",
       "      <th>Low</th>\n",
       "      <th>Close</th>\n",
       "      <th>Adj Close</th>\n",
       "      <th>Volume</th>\n",
       "    </tr>\n",
       "    <tr>\n",
       "      <th>Date</th>\n",
       "      <th></th>\n",
       "      <th></th>\n",
       "      <th></th>\n",
       "      <th></th>\n",
       "      <th></th>\n",
       "      <th></th>\n",
       "    </tr>\n",
       "  </thead>\n",
       "  <tbody>\n",
       "    <tr>\n",
       "      <th>1971-02-05</th>\n",
       "      <td>100.000000</td>\n",
       "      <td>100.000000</td>\n",
       "      <td>100.000000</td>\n",
       "      <td>100.000000</td>\n",
       "      <td>100.000000</td>\n",
       "      <td>0</td>\n",
       "    </tr>\n",
       "    <tr>\n",
       "      <th>1971-02-08</th>\n",
       "      <td>100.839996</td>\n",
       "      <td>100.839996</td>\n",
       "      <td>100.839996</td>\n",
       "      <td>100.839996</td>\n",
       "      <td>100.839996</td>\n",
       "      <td>0</td>\n",
       "    </tr>\n",
       "    <tr>\n",
       "      <th>1971-02-09</th>\n",
       "      <td>100.760002</td>\n",
       "      <td>100.760002</td>\n",
       "      <td>100.760002</td>\n",
       "      <td>100.760002</td>\n",
       "      <td>100.760002</td>\n",
       "      <td>0</td>\n",
       "    </tr>\n",
       "    <tr>\n",
       "      <th>1971-02-10</th>\n",
       "      <td>100.690002</td>\n",
       "      <td>100.690002</td>\n",
       "      <td>100.690002</td>\n",
       "      <td>100.690002</td>\n",
       "      <td>100.690002</td>\n",
       "      <td>0</td>\n",
       "    </tr>\n",
       "    <tr>\n",
       "      <th>1971-02-11</th>\n",
       "      <td>101.449997</td>\n",
       "      <td>101.449997</td>\n",
       "      <td>101.449997</td>\n",
       "      <td>101.449997</td>\n",
       "      <td>101.449997</td>\n",
       "      <td>0</td>\n",
       "    </tr>\n",
       "    <tr>\n",
       "      <th>...</th>\n",
       "      <td>...</td>\n",
       "      <td>...</td>\n",
       "      <td>...</td>\n",
       "      <td>...</td>\n",
       "      <td>...</td>\n",
       "      <td>...</td>\n",
       "    </tr>\n",
       "    <tr>\n",
       "      <th>2023-05-16</th>\n",
       "      <td>12327.049805</td>\n",
       "      <td>12403.809570</td>\n",
       "      <td>12324.519531</td>\n",
       "      <td>12343.049805</td>\n",
       "      <td>12343.049805</td>\n",
       "      <td>4067510000</td>\n",
       "    </tr>\n",
       "    <tr>\n",
       "      <th>2023-05-17</th>\n",
       "      <td>12388.580078</td>\n",
       "      <td>12514.070312</td>\n",
       "      <td>12335.019531</td>\n",
       "      <td>12500.570312</td>\n",
       "      <td>12500.570312</td>\n",
       "      <td>4501820000</td>\n",
       "    </tr>\n",
       "    <tr>\n",
       "      <th>2023-05-18</th>\n",
       "      <td>12513.870117</td>\n",
       "      <td>12698.500000</td>\n",
       "      <td>12512.259766</td>\n",
       "      <td>12688.839844</td>\n",
       "      <td>12688.839844</td>\n",
       "      <td>4532890000</td>\n",
       "    </tr>\n",
       "    <tr>\n",
       "      <th>2023-05-19</th>\n",
       "      <td>12709.459961</td>\n",
       "      <td>12731.730469</td>\n",
       "      <td>12624.059570</td>\n",
       "      <td>12657.900391</td>\n",
       "      <td>12657.900391</td>\n",
       "      <td>3935780000</td>\n",
       "    </tr>\n",
       "    <tr>\n",
       "      <th>2023-05-22</th>\n",
       "      <td>12664.440430</td>\n",
       "      <td>12756.230469</td>\n",
       "      <td>12655.259766</td>\n",
       "      <td>12720.780273</td>\n",
       "      <td>12720.780273</td>\n",
       "      <td>4278920000</td>\n",
       "    </tr>\n",
       "  </tbody>\n",
       "</table>\n",
       "<p>13188 rows × 6 columns</p>\n",
       "</div>"
      ],
      "text/plain": [
       "                    Open          High  ...     Adj Close      Volume\n",
       "Date                                    ...                          \n",
       "1971-02-05    100.000000    100.000000  ...    100.000000           0\n",
       "1971-02-08    100.839996    100.839996  ...    100.839996           0\n",
       "1971-02-09    100.760002    100.760002  ...    100.760002           0\n",
       "1971-02-10    100.690002    100.690002  ...    100.690002           0\n",
       "1971-02-11    101.449997    101.449997  ...    101.449997           0\n",
       "...                  ...           ...  ...           ...         ...\n",
       "2023-05-16  12327.049805  12403.809570  ...  12343.049805  4067510000\n",
       "2023-05-17  12388.580078  12514.070312  ...  12500.570312  4501820000\n",
       "2023-05-18  12513.870117  12698.500000  ...  12688.839844  4532890000\n",
       "2023-05-19  12709.459961  12731.730469  ...  12657.900391  3935780000\n",
       "2023-05-22  12664.440430  12756.230469  ...  12720.780273  4278920000\n",
       "\n",
       "[13188 rows x 6 columns]"
      ]
     },
     "execution_count": 2,
     "metadata": {},
     "output_type": "execute_result"
    }
   ],
   "source": [
    "import yfinance as yf\n",
    "data = yf.download(\"^IXIC\")\n",
    "data"
   ]
  },
  {
   "cell_type": "code",
   "execution_count": 5,
   "metadata": {},
   "outputs": [],
   "source": [
    "scaler = MinMaxScaler(feature_range=(0, 1))\n",
    "scaled_data = scaler.fit_transform(data[\"Close\"].values.reshape(-1, 1))"
   ]
  },
  {
   "cell_type": "code",
   "execution_count": 6,
   "metadata": {},
   "outputs": [],
   "source": [
    "train_size = int(len(scaled_data) * 0.8)\n",
    "train_data = scaled_data[:train_size, :]\n",
    "test_data = scaled_data[train_size:, :]"
   ]
  },
  {
   "cell_type": "code",
   "execution_count": 7,
   "metadata": {},
   "outputs": [],
   "source": [
    "def create_dataset(dataset, lookback=1):\n",
    "    dataX , dataY = [], []\n",
    "    for i in range(len(dataset)-lookback-1):\n",
    "        a = dataset[i:(i+lookback), 0]\n",
    "        dataX.append(a)\n",
    "        dataY.append(dataset[i + lookback, 0])\n",
    "    \n",
    "    return np.array(dataX) , np.array(dataY)"
   ]
  },
  {
   "cell_type": "code",
   "execution_count": 11,
   "metadata": {},
   "outputs": [],
   "source": [
    "look_back = 30\n",
    "X_train , Y_train = create_dataset(train_data, look_back)\n",
    "X_test , Y_test = create_dataset(test_data, look_back)"
   ]
  },
  {
   "cell_type": "code",
   "execution_count": 12,
   "metadata": {},
   "outputs": [],
   "source": [
    "def create_model():\n",
    "    model = Sequential()\n",
    "    model.add(LSTM(units=50, return_sequences=True, input_shape=(X_train.shape[1], 1)))\n",
    "    model.add(LSTM(units=50))\n",
    "    model.add(Dense(1))\n",
    "    model.compile(optimizer='adam', loss='mean_squared_error', metrics=['accuracy'])\n",
    "    return model"
   ]
  },
  {
   "cell_type": "code",
   "execution_count": 13,
   "metadata": {},
   "outputs": [],
   "source": [
    "X_train = np.reshape(X_train, (X_train.shape[0], X_train.shape[1], 1))\n",
    "X_test = np.reshape(X_test, (X_test.shape[0], X_test.shape[1], 1))"
   ]
  },
  {
   "cell_type": "code",
   "execution_count": 15,
   "metadata": {},
   "outputs": [
    {
     "name": "stdout",
     "output_type": "stream",
     "text": [
      "Epoch 1/32\n",
      "211/211 [==============================] - 7s 21ms/step - loss: 1.6182e-04 - accuracy: 9.5066e-05\n",
      "Epoch 2/32\n",
      "211/211 [==============================] - 5s 22ms/step - loss: 1.4420e-05 - accuracy: 9.5066e-05\n",
      "Epoch 3/32\n",
      "211/211 [==============================] - 5s 23ms/step - loss: 1.3653e-05 - accuracy: 9.5066e-05\n",
      "Epoch 4/32\n",
      "211/211 [==============================] - 5s 22ms/step - loss: 1.1558e-05 - accuracy: 9.5066e-05\n",
      "Epoch 5/32\n",
      "211/211 [==============================] - 5s 22ms/step - loss: 1.1205e-05 - accuracy: 9.5066e-05\n",
      "Epoch 6/32\n",
      "211/211 [==============================] - 4s 21ms/step - loss: 1.0942e-05 - accuracy: 9.5066e-05\n",
      "Epoch 7/32\n",
      "211/211 [==============================] - 5s 23ms/step - loss: 9.6926e-06 - accuracy: 9.5066e-05\n",
      "Epoch 8/32\n",
      "211/211 [==============================] - 5s 21ms/step - loss: 9.0506e-06 - accuracy: 9.5066e-05\n",
      "Epoch 9/32\n",
      "211/211 [==============================] - 5s 22ms/step - loss: 8.4622e-06 - accuracy: 9.5066e-05\n",
      "Epoch 10/32\n",
      "211/211 [==============================] - 4s 21ms/step - loss: 8.7572e-06 - accuracy: 9.5066e-05\n",
      "Epoch 11/32\n",
      "211/211 [==============================] - 5s 22ms/step - loss: 8.9640e-06 - accuracy: 9.5066e-05\n",
      "Epoch 12/32\n",
      "211/211 [==============================] - 4s 21ms/step - loss: 8.3848e-06 - accuracy: 9.5066e-05\n",
      "Epoch 13/32\n",
      "211/211 [==============================] - 5s 22ms/step - loss: 7.5081e-06 - accuracy: 9.5066e-05\n",
      "Epoch 14/32\n",
      "211/211 [==============================] - 4s 21ms/step - loss: 7.5537e-06 - accuracy: 9.5066e-05\n",
      "Epoch 15/32\n",
      "211/211 [==============================] - 5s 22ms/step - loss: 6.7064e-06 - accuracy: 9.5066e-05\n",
      "Epoch 16/32\n",
      "211/211 [==============================] - 5s 22ms/step - loss: 7.0050e-06 - accuracy: 9.5066e-05\n",
      "Epoch 17/32\n",
      "211/211 [==============================] - 5s 22ms/step - loss: 6.6988e-06 - accuracy: 9.5066e-05\n",
      "Epoch 18/32\n",
      "211/211 [==============================] - 5s 21ms/step - loss: 6.0886e-06 - accuracy: 9.5066e-05\n",
      "Epoch 19/32\n",
      "211/211 [==============================] - 5s 21ms/step - loss: 5.8133e-06 - accuracy: 9.5066e-05\n",
      "Epoch 20/32\n",
      "211/211 [==============================] - 4s 21ms/step - loss: 5.4910e-06 - accuracy: 9.5066e-05\n",
      "Epoch 21/32\n",
      "211/211 [==============================] - 4s 21ms/step - loss: 5.5658e-06 - accuracy: 9.5066e-05\n",
      "Epoch 22/32\n",
      "211/211 [==============================] - 4s 21ms/step - loss: 5.0491e-06 - accuracy: 9.5066e-05\n",
      "Epoch 23/32\n",
      "211/211 [==============================] - 4s 21ms/step - loss: 4.9301e-06 - accuracy: 9.5066e-05\n",
      "Epoch 24/32\n",
      "211/211 [==============================] - 4s 21ms/step - loss: 5.3440e-06 - accuracy: 9.5066e-05\n",
      "Epoch 25/32\n",
      "211/211 [==============================] - 5s 22ms/step - loss: 5.1148e-06 - accuracy: 9.5066e-05\n",
      "Epoch 26/32\n",
      "211/211 [==============================] - 4s 21ms/step - loss: 4.3902e-06 - accuracy: 9.5066e-05\n",
      "Epoch 27/32\n",
      "211/211 [==============================] - 5s 22ms/step - loss: 4.0000e-06 - accuracy: 9.5066e-05\n",
      "Epoch 28/32\n",
      "211/211 [==============================] - 5s 21ms/step - loss: 4.3616e-06 - accuracy: 9.5066e-05\n",
      "Epoch 29/32\n",
      "211/211 [==============================] - 5s 22ms/step - loss: 4.5463e-06 - accuracy: 9.5066e-05\n",
      "Epoch 30/32\n",
      "211/211 [==============================] - 5s 22ms/step - loss: 4.9867e-06 - accuracy: 9.5066e-05\n",
      "Epoch 31/32\n",
      "211/211 [==============================] - 5s 22ms/step - loss: 3.8691e-06 - accuracy: 9.5066e-05\n",
      "Epoch 32/32\n",
      "211/211 [==============================] - 4s 21ms/step - loss: 4.0912e-06 - accuracy: 9.5066e-05\n"
     ]
    },
    {
     "data": {
      "text/plain": [
       "<keras.src.callbacks.History at 0x7f9a4d0bff70>"
      ]
     },
     "execution_count": 15,
     "metadata": {},
     "output_type": "execute_result"
    }
   ],
   "source": [
    "model = create_model()\n",
    "model.fit(X_train, Y_train, batch_size=50, epochs=32)"
   ]
  },
  {
   "cell_type": "code",
   "execution_count": 16,
   "metadata": {},
   "outputs": [
    {
     "name": "stdout",
     "output_type": "stream",
     "text": [
      "82/82 [==============================] - 1s 7ms/step\n"
     ]
    }
   ],
   "source": [
    "predictions = model.predict(X_test)"
   ]
  },
  {
   "cell_type": "code",
   "execution_count": 17,
   "metadata": {},
   "outputs": [],
   "source": [
    "predictions = scaler.inverse_transform(predictions)\n",
    "Y_test = scaler.inverse_transform(Y_test.reshape(-1, 1))"
   ]
  },
  {
   "cell_type": "code",
   "execution_count": 20,
   "metadata": {},
   "outputs": [
    {
     "name": "stdout",
     "output_type": "stream",
     "text": [
      "Root Mean Squared Error :  140.10056374289772\n"
     ]
    }
   ],
   "source": [
    "rmse = np.sqrt(np.mean(predictions - Y_test) ** 2)\n",
    "print(\"Root Mean Squared Error : \", rmse)"
   ]
  },
  {
   "cell_type": "code",
   "execution_count": 21,
   "metadata": {},
   "outputs": [
    {
     "name": "stdout",
     "output_type": "stream",
     "text": [
      "Percebtage Error :  5.839250302456611\n"
     ]
    }
   ],
   "source": [
    "mean_price = np.mean(data[\"Close\"].values)\n",
    "percentage_error = rmse / mean_price * 100\n",
    "print(\"Percebtage Error : \", percentage_error)"
   ]
  },
  {
   "cell_type": "code",
   "execution_count": 22,
   "metadata": {},
   "outputs": [
    {
     "data": {
      "image/png": "[encoded data removed]",
      "text/plain": [
       "<Figure size 640x480 with 1 Axes>"
      ]
     },
     "metadata": {},
     "output_type": "display_data"
    }
   ],
   "source": [
    "import matplotlib.pyplot as plt\n",
    "plt.plot(predictions, label = \"Predictions\")\n",
    "plt.plot(Y_test, label=\"Actual\")\n",
    "plt.legend()\n",
    "plt.show()"
   ]
  },
  {
   "cell_type": "code",
   "execution_count": null,
   "metadata": {},
   "outputs": [],
   "source": []
  }
 ],
 "metadata": {
  "kernelspec": {
   "display_name": "Python 3",
   "language": "python",
   "name": "python3"
  },
  "language_info": {
   "codemirror_mode": {
    "name": "ipython",
    "version": 3
   },
   "file_extension": ".py",
   "mimetype": "text/x-python",
   "name": "python",
   "nbconvert_exporter": "python",
   "pygments_lexer": "ipython3",
   "version": "3.10.4"
  },
  "orig_nbformat": 4
 },
 "nbformat": 4,
 "nbformat_minor": 2
}
